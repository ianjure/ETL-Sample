{
 "cells": [
  {
   "cell_type": "code",
   "execution_count": null,
   "id": "a3d84445",
   "metadata": {},
   "outputs": [],
   "source": [
    "import sqlalchemy\n",
    "\n",
    "import os\n",
    "from dotenv import load_dotenv\n",
    "load_dotenv()"
   ]
  },
  {
   "cell_type": "code",
   "execution_count": null,
   "id": "4af60ad0",
   "metadata": {},
   "outputs": [],
   "source": [
    "# Connect to PostgreSQL - Staging\n",
    "DATABASE_URL_STAGING = os.getenv(\"DATABASE_URL_STAGING\")\n",
    "engine = sqlalchemy.create_engine(DATABASE_URL_STAGING,  client_encoding='utf8')\n",
    "connection = engine.connect()"
   ]
  },
  {
   "cell_type": "code",
   "execution_count": null,
   "id": "01a25552",
   "metadata": {},
   "outputs": [],
   "source": [
    "# Check Database\n",
    "asd = sqlalchemy.inspect(engine)\n",
    "print(asd.get_table_names())"
   ]
  },
  {
   "cell_type": "code",
   "execution_count": null,
   "id": "659cf28c",
   "metadata": {},
   "outputs": [],
   "source": [
    "import pandas as pd\n",
    "\n",
    "# Select Data\n",
    "query = \"SELECT * FROM sales_data LIMIT 5;\"\n",
    "result_df = pd.read_sql(query, con=connection)\n",
    "result_df"
   ]
  },
  {
   "cell_type": "code",
   "execution_count": null,
   "id": "7c65f1ba",
   "metadata": {},
   "outputs": [],
   "source": [
    "result_df.isnull().sum()"
   ]
  },
  {
   "cell_type": "code",
   "execution_count": null,
   "id": "3dde5d2b",
   "metadata": {},
   "outputs": [],
   "source": [
    "result_df = result_df.dropna()\n",
    "result_df.isnull().sum()"
   ]
  },
  {
   "cell_type": "code",
   "execution_count": null,
   "id": "5a0c9651",
   "metadata": {},
   "outputs": [],
   "source": [
    "result_df.duplicated().sum()"
   ]
  },
  {
   "cell_type": "code",
   "execution_count": null,
   "id": "b0db931b",
   "metadata": {},
   "outputs": [],
   "source": [
    "result_df = result_df.drop_duplicates()\n",
    "result_df.duplicated().sum()"
   ]
  },
  {
   "cell_type": "code",
   "execution_count": null,
   "id": "b68048c0",
   "metadata": {},
   "outputs": [],
   "source": [
    "result_df = result_df[result_df[\"Order ID\"].str.isnumeric()]\n",
    "result_df.shape"
   ]
  },
  {
   "cell_type": "code",
   "execution_count": null,
   "id": "50d5596d",
   "metadata": {},
   "outputs": [],
   "source": [
    "result_df.info()"
   ]
  },
  {
   "cell_type": "code",
   "execution_count": null,
   "id": "dc25ed55",
   "metadata": {},
   "outputs": [],
   "source": [
    "# Remove Whitespaces\n",
    "result_df[\"Order ID\"] = result_df[\"Order ID\"].str.strip()\n",
    "result_df[\"Product\"] = result_df[\"Product\"].str.strip()\n",
    "result_df[\"Quantity Ordered\"] = result_df[\"Quantity Ordered\"].str.strip()\n",
    "result_df[\"Price Each\"] = result_df[\"Price Each\"].str.strip()\n",
    "result_df[\"Order Date\"] = result_df[\"Order Date\"].str.strip()\n",
    "result_df[\"Purchase Address\"] = result_df[\"Purchase Address\"].str.strip()\n",
    "\n",
    "# Fix Data Types\n",
    "result_df[\"Order ID\"] = result_df[\"Order ID\"].astype(int)\n",
    "result_df[\"Quantity Ordered\"] = result_df[\"Quantity Ordered\"].astype(int)\n",
    "result_df[\"Price Each\"] = result_df[\"Price Each\"].astype(float)\n",
    "result_df[\"Order Date\"] = pd.to_datetime(result_df[\"Order Date\"])"
   ]
  },
  {
   "cell_type": "code",
   "execution_count": null,
   "id": "80ba59b2",
   "metadata": {},
   "outputs": [],
   "source": [
    "usa_result_df = result_df[result_df[\"FROM\"].str.contains(\"USA\")]\n",
    "canada_result_df = result_df[result_df[\"FROM\"].str.contains(\"Canada\")]"
   ]
  },
  {
   "cell_type": "code",
   "execution_count": null,
   "id": "4d79a36a",
   "metadata": {},
   "outputs": [],
   "source": [
    "canada_result_df[\"Price Each\"] = canada_result_df[\"Price Each\"] * 0.72"
   ]
  },
  {
   "cell_type": "code",
   "execution_count": null,
   "id": "e8d3163b",
   "metadata": {},
   "outputs": [],
   "source": [
    "final_df = pd.concat([usa_result_df, canada_result_df], ignore_index=True)\n",
    "final_df = final_df.rename(columns={\"FROM\": \"Country\"})\n",
    "final_df"
   ]
  },
  {
   "cell_type": "code",
   "execution_count": null,
   "id": "9d8b7b5d",
   "metadata": {},
   "outputs": [],
   "source": [
    "# Close the connection\n",
    "connection.close()"
   ]
  },
  {
   "cell_type": "code",
   "execution_count": null,
   "id": "bfa42deb",
   "metadata": {},
   "outputs": [],
   "source": [
    "# Connect to PostgreSQL - Final\n",
    "DATABASE_URL_FINAL = os.getenv(\"DATABASE_URL_FINAL\") \n",
    "engine = sqlalchemy.create_engine(DATABASE_URL_FINAL,  client_encoding='utf8')\n",
    "connection = engine.connect()"
   ]
  },
  {
   "cell_type": "code",
   "execution_count": null,
   "id": "33a95b74",
   "metadata": {},
   "outputs": [],
   "source": [
    "# Check Database\n",
    "asd = sqlalchemy.inspect(engine)\n",
    "print(asd.get_table_names())"
   ]
  },
  {
   "cell_type": "code",
   "execution_count": null,
   "id": "db7582a8",
   "metadata": {},
   "outputs": [],
   "source": [
    "# Save DataFrame to Database\n",
    "final_df.to_sql(\"sales_data_duckdb\", con=connection, if_exists=\"replace\", index=False)"
   ]
  },
  {
   "cell_type": "code",
   "execution_count": null,
   "id": "9d687ea9",
   "metadata": {},
   "outputs": [],
   "source": [
    "# Verify the data was saved correctly\n",
    "query = \"SELECT * FROM sales_data_duckdb LIMIT 5;\"\n",
    "check_df = pd.read_sql(query, con=connection)\n",
    "check_df"
   ]
  },
  {
   "cell_type": "code",
   "execution_count": null,
   "id": "ecb21212",
   "metadata": {},
   "outputs": [],
   "source": [
    "# Verify the data was saved correctly\n",
    "query_ext = \"SELECT * FROM pg_extension;\"\n",
    "pd.read_sql(query, con=connection)"
   ]
  }
 ],
 "metadata": {
  "kernelspec": {
   "display_name": "macalisang",
   "language": "python",
   "name": "python3"
  },
  "language_info": {
   "name": "python",
   "version": "3.10.14"
  }
 },
 "nbformat": 4,
 "nbformat_minor": 5
}
