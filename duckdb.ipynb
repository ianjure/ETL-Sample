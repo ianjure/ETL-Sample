{
 "cells": [
  {
   "cell_type": "code",
   "execution_count": 10,
   "id": "a3d84445",
   "metadata": {},
   "outputs": [
    {
     "data": {
      "text/plain": [
       "True"
      ]
     },
     "execution_count": 10,
     "metadata": {},
     "output_type": "execute_result"
    }
   ],
   "source": [
    "import sqlalchemy\n",
    "\n",
    "import os\n",
    "from dotenv import load_dotenv\n",
    "load_dotenv()"
   ]
  },
  {
   "cell_type": "code",
   "execution_count": 11,
   "id": "4af60ad0",
   "metadata": {},
   "outputs": [],
   "source": [
    "# Connect to PostgreSQL - Staging\n",
    "DATABASE_URL_STAGING = os.getenv(\"DATABASE_URL_STAGING\")\n",
    "engine = sqlalchemy.create_engine(DATABASE_URL_STAGING,  client_encoding='utf8')\n",
    "connection = engine.connect()"
   ]
  },
  {
   "cell_type": "code",
   "execution_count": 12,
   "id": "01a25552",
   "metadata": {},
   "outputs": [
    {
     "name": "stdout",
     "output_type": "stream",
     "text": [
      "['combined_sales_new', 'combined_sales']\n"
     ]
    }
   ],
   "source": [
    "# Check Database\n",
    "asd = sqlalchemy.inspect(engine)\n",
    "print(asd.get_table_names())"
   ]
  },
  {
   "cell_type": "code",
   "execution_count": 13,
   "id": "659cf28c",
   "metadata": {},
   "outputs": [
    {
     "data": {
      "text/html": [
       "<div>\n",
       "<style scoped>\n",
       "    .dataframe tbody tr th:only-of-type {\n",
       "        vertical-align: middle;\n",
       "    }\n",
       "\n",
       "    .dataframe tbody tr th {\n",
       "        vertical-align: top;\n",
       "    }\n",
       "\n",
       "    .dataframe thead th {\n",
       "        text-align: right;\n",
       "    }\n",
       "</style>\n",
       "<table border=\"1\" class=\"dataframe\">\n",
       "  <thead>\n",
       "    <tr style=\"text-align: right;\">\n",
       "      <th></th>\n",
       "      <th>Order ID</th>\n",
       "      <th>Product</th>\n",
       "      <th>Quantity Ordered</th>\n",
       "      <th>Price Each</th>\n",
       "      <th>Order Date</th>\n",
       "      <th>Purchase Address</th>\n",
       "      <th>FROM</th>\n",
       "    </tr>\n",
       "  </thead>\n",
       "  <tbody>\n",
       "    <tr>\n",
       "      <th>0</th>\n",
       "      <td>176558</td>\n",
       "      <td>USB-C Charging Cable</td>\n",
       "      <td>2</td>\n",
       "      <td>11.95</td>\n",
       "      <td>04/19/19 08:46</td>\n",
       "      <td>128 Elm St, Quebec City</td>\n",
       "      <td>Canada</td>\n",
       "    </tr>\n",
       "    <tr>\n",
       "      <th>1</th>\n",
       "      <td>None</td>\n",
       "      <td>None</td>\n",
       "      <td>None</td>\n",
       "      <td>None</td>\n",
       "      <td>None</td>\n",
       "      <td>113 Oak St, Ottawa</td>\n",
       "      <td>Canada</td>\n",
       "    </tr>\n",
       "    <tr>\n",
       "      <th>2</th>\n",
       "      <td>176559</td>\n",
       "      <td>Bose SoundSport Headphones</td>\n",
       "      <td>1</td>\n",
       "      <td>99.99</td>\n",
       "      <td>04/07/19 22:30</td>\n",
       "      <td>116 Elm St, Winnipeg</td>\n",
       "      <td>Canada</td>\n",
       "    </tr>\n",
       "    <tr>\n",
       "      <th>3</th>\n",
       "      <td>176560</td>\n",
       "      <td>Google Phone</td>\n",
       "      <td>1</td>\n",
       "      <td>600</td>\n",
       "      <td>04/12/19 14:38</td>\n",
       "      <td>149 Broadway, Edmonton</td>\n",
       "      <td>Canada</td>\n",
       "    </tr>\n",
       "    <tr>\n",
       "      <th>4</th>\n",
       "      <td>176560</td>\n",
       "      <td>Wired Headphones</td>\n",
       "      <td>1</td>\n",
       "      <td>11.99</td>\n",
       "      <td>04/12/19 14:38</td>\n",
       "      <td>121 Maple St, Vancouver</td>\n",
       "      <td>Canada</td>\n",
       "    </tr>\n",
       "    <tr>\n",
       "      <th>...</th>\n",
       "      <td>...</td>\n",
       "      <td>...</td>\n",
       "      <td>...</td>\n",
       "      <td>...</td>\n",
       "      <td>...</td>\n",
       "      <td>...</td>\n",
       "      <td>...</td>\n",
       "    </tr>\n",
       "    <tr>\n",
       "      <th>30389</th>\n",
       "      <td>248146</td>\n",
       "      <td>Bose SoundSport Headphones</td>\n",
       "      <td>1</td>\n",
       "      <td>99.99</td>\n",
       "      <td>08/29/19 22:19</td>\n",
       "      <td>868 Hickory St, San Francisco, CA 94016</td>\n",
       "      <td>USA</td>\n",
       "    </tr>\n",
       "    <tr>\n",
       "      <th>30390</th>\n",
       "      <td>248147</td>\n",
       "      <td>AAA Batteries (4-pack)</td>\n",
       "      <td>3</td>\n",
       "      <td>2.99</td>\n",
       "      <td>08/31/19 16:26</td>\n",
       "      <td>206 Lakeview St, Boston, MA 02215</td>\n",
       "      <td>USA</td>\n",
       "    </tr>\n",
       "    <tr>\n",
       "      <th>30391</th>\n",
       "      <td>248148</td>\n",
       "      <td>AA Batteries (4-pack)</td>\n",
       "      <td>1</td>\n",
       "      <td>3.84</td>\n",
       "      <td>08/02/19 07:25</td>\n",
       "      <td>568 13th St, Seattle, WA 98101</td>\n",
       "      <td>USA</td>\n",
       "    </tr>\n",
       "    <tr>\n",
       "      <th>30392</th>\n",
       "      <td>248149</td>\n",
       "      <td>USB-C Charging Cable</td>\n",
       "      <td>1</td>\n",
       "      <td>11.95</td>\n",
       "      <td>08/08/19 12:10</td>\n",
       "      <td>495 Walnut St, San Francisco, CA 94016</td>\n",
       "      <td>USA</td>\n",
       "    </tr>\n",
       "    <tr>\n",
       "      <th>30393</th>\n",
       "      <td>248150</td>\n",
       "      <td>AA Batteries (4-pack)</td>\n",
       "      <td>1</td>\n",
       "      <td>3.84</td>\n",
       "      <td>08/16/19 08:13</td>\n",
       "      <td>738 Park St, Los Angeles, CA 90001</td>\n",
       "      <td>USA</td>\n",
       "    </tr>\n",
       "  </tbody>\n",
       "</table>\n",
       "<p>30394 rows × 7 columns</p>\n",
       "</div>"
      ],
      "text/plain": [
       "      Order ID                     Product Quantity Ordered Price Each  \\\n",
       "0       176558        USB-C Charging Cable                2      11.95   \n",
       "1         None                        None             None       None   \n",
       "2       176559  Bose SoundSport Headphones                1      99.99   \n",
       "3       176560                Google Phone                1        600   \n",
       "4       176560            Wired Headphones                1      11.99   \n",
       "...        ...                         ...              ...        ...   \n",
       "30389   248146  Bose SoundSport Headphones                1      99.99   \n",
       "30390   248147      AAA Batteries (4-pack)                3       2.99   \n",
       "30391   248148       AA Batteries (4-pack)                1       3.84   \n",
       "30392   248149        USB-C Charging Cable                1      11.95   \n",
       "30393   248150       AA Batteries (4-pack)                1       3.84   \n",
       "\n",
       "           Order Date                         Purchase Address    FROM  \n",
       "0      04/19/19 08:46                  128 Elm St, Quebec City  Canada  \n",
       "1                None                       113 Oak St, Ottawa  Canada  \n",
       "2      04/07/19 22:30                     116 Elm St, Winnipeg  Canada  \n",
       "3      04/12/19 14:38                   149 Broadway, Edmonton  Canada  \n",
       "4      04/12/19 14:38                  121 Maple St, Vancouver  Canada  \n",
       "...               ...                                      ...     ...  \n",
       "30389  08/29/19 22:19  868 Hickory St, San Francisco, CA 94016     USA  \n",
       "30390  08/31/19 16:26        206 Lakeview St, Boston, MA 02215     USA  \n",
       "30391  08/02/19 07:25           568 13th St, Seattle, WA 98101     USA  \n",
       "30392  08/08/19 12:10   495 Walnut St, San Francisco, CA 94016     USA  \n",
       "30393  08/16/19 08:13       738 Park St, Los Angeles, CA 90001     USA  \n",
       "\n",
       "[30394 rows x 7 columns]"
      ]
     },
     "execution_count": 13,
     "metadata": {},
     "output_type": "execute_result"
    }
   ],
   "source": [
    "import pandas as pd\n",
    "\n",
    "# Select Data\n",
    "query = \"SELECT * FROM combined_sales_new;\"\n",
    "result_df = pd.read_sql(query, con=connection)\n",
    "result_df"
   ]
  },
  {
   "cell_type": "code",
   "execution_count": 14,
   "id": "7c65f1ba",
   "metadata": {},
   "outputs": [
    {
     "data": {
      "text/plain": [
       "Order ID            87\n",
       "Product             87\n",
       "Quantity Ordered    87\n",
       "Price Each          87\n",
       "Order Date          87\n",
       "Purchase Address    28\n",
       "FROM                 0\n",
       "dtype: int64"
      ]
     },
     "execution_count": 14,
     "metadata": {},
     "output_type": "execute_result"
    }
   ],
   "source": [
    "result_df.isnull().sum()"
   ]
  },
  {
   "cell_type": "code",
   "execution_count": 15,
   "id": "3dde5d2b",
   "metadata": {},
   "outputs": [
    {
     "data": {
      "text/plain": [
       "Order ID            0\n",
       "Product             0\n",
       "Quantity Ordered    0\n",
       "Price Each          0\n",
       "Order Date          0\n",
       "Purchase Address    0\n",
       "FROM                0\n",
       "dtype: int64"
      ]
     },
     "execution_count": 15,
     "metadata": {},
     "output_type": "execute_result"
    }
   ],
   "source": [
    "result_df = result_df.dropna()\n",
    "result_df.isnull().sum()"
   ]
  },
  {
   "cell_type": "code",
   "execution_count": 16,
   "id": "5a0c9651",
   "metadata": {},
   "outputs": [
    {
     "data": {
      "text/plain": [
       "np.int64(43)"
      ]
     },
     "execution_count": 16,
     "metadata": {},
     "output_type": "execute_result"
    }
   ],
   "source": [
    "result_df.duplicated().sum()"
   ]
  },
  {
   "cell_type": "code",
   "execution_count": 17,
   "id": "b0db931b",
   "metadata": {},
   "outputs": [
    {
     "data": {
      "text/plain": [
       "np.int64(0)"
      ]
     },
     "execution_count": 17,
     "metadata": {},
     "output_type": "execute_result"
    }
   ],
   "source": [
    "result_df = result_df.drop_duplicates()\n",
    "result_df.duplicated().sum()"
   ]
  },
  {
   "cell_type": "code",
   "execution_count": 18,
   "id": "b68048c0",
   "metadata": {},
   "outputs": [
    {
     "data": {
      "text/plain": [
       "(30228, 7)"
      ]
     },
     "execution_count": 18,
     "metadata": {},
     "output_type": "execute_result"
    }
   ],
   "source": [
    "result_df = result_df[result_df[\"Order ID\"].str.isnumeric()]\n",
    "result_df.shape"
   ]
  },
  {
   "cell_type": "code",
   "execution_count": 19,
   "id": "50d5596d",
   "metadata": {},
   "outputs": [
    {
     "name": "stdout",
     "output_type": "stream",
     "text": [
      "<class 'pandas.core.frame.DataFrame'>\n",
      "Index: 30228 entries, 0 to 30393\n",
      "Data columns (total 7 columns):\n",
      " #   Column            Non-Null Count  Dtype \n",
      "---  ------            --------------  ----- \n",
      " 0   Order ID          30228 non-null  object\n",
      " 1   Product           30228 non-null  object\n",
      " 2   Quantity Ordered  30228 non-null  object\n",
      " 3   Price Each        30228 non-null  object\n",
      " 4   Order Date        30228 non-null  object\n",
      " 5   Purchase Address  30228 non-null  object\n",
      " 6   FROM              30228 non-null  object\n",
      "dtypes: object(7)\n",
      "memory usage: 1.8+ MB\n"
     ]
    }
   ],
   "source": [
    "result_df.info()"
   ]
  },
  {
   "cell_type": "code",
   "execution_count": 20,
   "id": "dc25ed55",
   "metadata": {},
   "outputs": [
    {
     "name": "stderr",
     "output_type": "stream",
     "text": [
      "C:\\Users\\ianju\\AppData\\Local\\Temp\\ipykernel_7964\\3462584182.py:13: UserWarning: Could not infer format, so each element will be parsed individually, falling back to `dateutil`. To ensure parsing is consistent and as-expected, please specify a format.\n",
      "  result_df[\"Order Date\"] = pd.to_datetime(result_df[\"Order Date\"])\n"
     ]
    }
   ],
   "source": [
    "# Remove Whitespaces\n",
    "result_df[\"Order ID\"] = result_df[\"Order ID\"].str.strip()\n",
    "result_df[\"Product\"] = result_df[\"Product\"].str.strip()\n",
    "result_df[\"Quantity Ordered\"] = result_df[\"Quantity Ordered\"].str.strip()\n",
    "result_df[\"Price Each\"] = result_df[\"Price Each\"].str.strip()\n",
    "result_df[\"Order Date\"] = result_df[\"Order Date\"].str.strip()\n",
    "result_df[\"Purchase Address\"] = result_df[\"Purchase Address\"].str.strip()\n",
    "\n",
    "# Fix Data Types\n",
    "result_df[\"Order ID\"] = result_df[\"Order ID\"].astype(int)\n",
    "result_df[\"Quantity Ordered\"] = result_df[\"Quantity Ordered\"].astype(int)\n",
    "result_df[\"Price Each\"] = result_df[\"Price Each\"].astype(float)\n",
    "result_df[\"Order Date\"] = pd.to_datetime(result_df[\"Order Date\"])"
   ]
  },
  {
   "cell_type": "code",
   "execution_count": 21,
   "id": "80ba59b2",
   "metadata": {},
   "outputs": [],
   "source": [
    "usa_result_df = result_df[result_df[\"FROM\"].str.contains(\"USA\")]\n",
    "canada_result_df = result_df[result_df[\"FROM\"].str.contains(\"Canada\")]"
   ]
  },
  {
   "cell_type": "code",
   "execution_count": 22,
   "id": "4d79a36a",
   "metadata": {},
   "outputs": [
    {
     "name": "stderr",
     "output_type": "stream",
     "text": [
      "C:\\Users\\ianju\\AppData\\Local\\Temp\\ipykernel_7964\\950003836.py:1: SettingWithCopyWarning: \n",
      "A value is trying to be set on a copy of a slice from a DataFrame.\n",
      "Try using .loc[row_indexer,col_indexer] = value instead\n",
      "\n",
      "See the caveats in the documentation: https://pandas.pydata.org/pandas-docs/stable/user_guide/indexing.html#returning-a-view-versus-a-copy\n",
      "  canada_result_df[\"Price Each\"] = canada_result_df[\"Price Each\"] * 0.72\n"
     ]
    }
   ],
   "source": [
    "canada_result_df[\"Price Each\"] = canada_result_df[\"Price Each\"] * 0.72"
   ]
  },
  {
   "cell_type": "code",
   "execution_count": 23,
   "id": "e8d3163b",
   "metadata": {},
   "outputs": [
    {
     "data": {
      "text/html": [
       "<div>\n",
       "<style scoped>\n",
       "    .dataframe tbody tr th:only-of-type {\n",
       "        vertical-align: middle;\n",
       "    }\n",
       "\n",
       "    .dataframe tbody tr th {\n",
       "        vertical-align: top;\n",
       "    }\n",
       "\n",
       "    .dataframe thead th {\n",
       "        text-align: right;\n",
       "    }\n",
       "</style>\n",
       "<table border=\"1\" class=\"dataframe\">\n",
       "  <thead>\n",
       "    <tr style=\"text-align: right;\">\n",
       "      <th></th>\n",
       "      <th>Order ID</th>\n",
       "      <th>Product</th>\n",
       "      <th>Quantity Ordered</th>\n",
       "      <th>Price Each</th>\n",
       "      <th>Order Date</th>\n",
       "      <th>Purchase Address</th>\n",
       "      <th>Country</th>\n",
       "    </tr>\n",
       "  </thead>\n",
       "  <tbody>\n",
       "    <tr>\n",
       "      <th>0</th>\n",
       "      <td>240221</td>\n",
       "      <td>iPhone</td>\n",
       "      <td>1</td>\n",
       "      <td>700.0000</td>\n",
       "      <td>2019-08-09 20:03:00</td>\n",
       "      <td>714 Lake St, Portland, OR 97035</td>\n",
       "      <td>USA</td>\n",
       "    </tr>\n",
       "    <tr>\n",
       "      <th>1</th>\n",
       "      <td>242936</td>\n",
       "      <td>iPhone</td>\n",
       "      <td>1</td>\n",
       "      <td>700.0000</td>\n",
       "      <td>2019-08-14 09:27:00</td>\n",
       "      <td>984 14th St, Austin, TX 73301</td>\n",
       "      <td>USA</td>\n",
       "    </tr>\n",
       "    <tr>\n",
       "      <th>2</th>\n",
       "      <td>244595</td>\n",
       "      <td>iPhone</td>\n",
       "      <td>1</td>\n",
       "      <td>700.0000</td>\n",
       "      <td>2019-08-03 18:09:00</td>\n",
       "      <td>711 Center St, Seattle, WA 98101</td>\n",
       "      <td>USA</td>\n",
       "    </tr>\n",
       "    <tr>\n",
       "      <th>3</th>\n",
       "      <td>236670</td>\n",
       "      <td>Wired Headphones</td>\n",
       "      <td>2</td>\n",
       "      <td>11.9900</td>\n",
       "      <td>2019-08-31 22:21:00</td>\n",
       "      <td>359 Spruce St, Seattle, WA 98101</td>\n",
       "      <td>USA</td>\n",
       "    </tr>\n",
       "    <tr>\n",
       "      <th>4</th>\n",
       "      <td>236671</td>\n",
       "      <td>Bose SoundSport Headphones</td>\n",
       "      <td>1</td>\n",
       "      <td>99.9900</td>\n",
       "      <td>2019-08-15 15:11:00</td>\n",
       "      <td>492 Ridge St, Dallas, TX 75001</td>\n",
       "      <td>USA</td>\n",
       "    </tr>\n",
       "    <tr>\n",
       "      <th>...</th>\n",
       "      <td>...</td>\n",
       "      <td>...</td>\n",
       "      <td>...</td>\n",
       "      <td>...</td>\n",
       "      <td>...</td>\n",
       "      <td>...</td>\n",
       "      <td>...</td>\n",
       "    </tr>\n",
       "    <tr>\n",
       "      <th>30223</th>\n",
       "      <td>194090</td>\n",
       "      <td>Google Phone</td>\n",
       "      <td>1</td>\n",
       "      <td>432.0000</td>\n",
       "      <td>2019-04-08 17:11:00</td>\n",
       "      <td>124 Market St, Quebec City</td>\n",
       "      <td>Canada</td>\n",
       "    </tr>\n",
       "    <tr>\n",
       "      <th>30224</th>\n",
       "      <td>194091</td>\n",
       "      <td>AA Batteries (4-pack)</td>\n",
       "      <td>1</td>\n",
       "      <td>2.7648</td>\n",
       "      <td>2019-04-15 16:02:00</td>\n",
       "      <td>130 Cedar Ave, Ottawa</td>\n",
       "      <td>Canada</td>\n",
       "    </tr>\n",
       "    <tr>\n",
       "      <th>30225</th>\n",
       "      <td>194092</td>\n",
       "      <td>AAA Batteries (4-pack)</td>\n",
       "      <td>2</td>\n",
       "      <td>2.1528</td>\n",
       "      <td>2019-04-28 14:36:00</td>\n",
       "      <td>137 Maple St, Vancouver</td>\n",
       "      <td>Canada</td>\n",
       "    </tr>\n",
       "    <tr>\n",
       "      <th>30226</th>\n",
       "      <td>194093</td>\n",
       "      <td>AA Batteries (4-pack)</td>\n",
       "      <td>1</td>\n",
       "      <td>2.7648</td>\n",
       "      <td>2019-04-14 15:09:00</td>\n",
       "      <td>133 Elm St, Vancouver</td>\n",
       "      <td>Canada</td>\n",
       "    </tr>\n",
       "    <tr>\n",
       "      <th>30227</th>\n",
       "      <td>194094</td>\n",
       "      <td>Lightning Charging Cable</td>\n",
       "      <td>1</td>\n",
       "      <td>10.7640</td>\n",
       "      <td>2019-04-18 11:08:00</td>\n",
       "      <td>105 Pacific Ave, Toronto</td>\n",
       "      <td>Canada</td>\n",
       "    </tr>\n",
       "  </tbody>\n",
       "</table>\n",
       "<p>30228 rows × 7 columns</p>\n",
       "</div>"
      ],
      "text/plain": [
       "       Order ID                     Product  Quantity Ordered  Price Each  \\\n",
       "0        240221                      iPhone                 1    700.0000   \n",
       "1        242936                      iPhone                 1    700.0000   \n",
       "2        244595                      iPhone                 1    700.0000   \n",
       "3        236670            Wired Headphones                 2     11.9900   \n",
       "4        236671  Bose SoundSport Headphones                 1     99.9900   \n",
       "...         ...                         ...               ...         ...   \n",
       "30223    194090                Google Phone                 1    432.0000   \n",
       "30224    194091       AA Batteries (4-pack)                 1      2.7648   \n",
       "30225    194092      AAA Batteries (4-pack)                 2      2.1528   \n",
       "30226    194093       AA Batteries (4-pack)                 1      2.7648   \n",
       "30227    194094    Lightning Charging Cable                 1     10.7640   \n",
       "\n",
       "               Order Date                  Purchase Address Country  \n",
       "0     2019-08-09 20:03:00   714 Lake St, Portland, OR 97035     USA  \n",
       "1     2019-08-14 09:27:00     984 14th St, Austin, TX 73301     USA  \n",
       "2     2019-08-03 18:09:00  711 Center St, Seattle, WA 98101     USA  \n",
       "3     2019-08-31 22:21:00  359 Spruce St, Seattle, WA 98101     USA  \n",
       "4     2019-08-15 15:11:00    492 Ridge St, Dallas, TX 75001     USA  \n",
       "...                   ...                               ...     ...  \n",
       "30223 2019-04-08 17:11:00        124 Market St, Quebec City  Canada  \n",
       "30224 2019-04-15 16:02:00             130 Cedar Ave, Ottawa  Canada  \n",
       "30225 2019-04-28 14:36:00           137 Maple St, Vancouver  Canada  \n",
       "30226 2019-04-14 15:09:00             133 Elm St, Vancouver  Canada  \n",
       "30227 2019-04-18 11:08:00          105 Pacific Ave, Toronto  Canada  \n",
       "\n",
       "[30228 rows x 7 columns]"
      ]
     },
     "execution_count": 23,
     "metadata": {},
     "output_type": "execute_result"
    }
   ],
   "source": [
    "final_df = pd.concat([usa_result_df, canada_result_df], ignore_index=True)\n",
    "final_df = final_df.rename(columns={\"FROM\": \"Country\"})\n",
    "final_df"
   ]
  },
  {
   "cell_type": "code",
   "execution_count": 24,
   "id": "9d8b7b5d",
   "metadata": {},
   "outputs": [],
   "source": [
    "# Close the connection\n",
    "connection.close()"
   ]
  },
  {
   "cell_type": "code",
   "execution_count": 25,
   "id": "bfa42deb",
   "metadata": {},
   "outputs": [],
   "source": [
    "# Connect to PostgreSQL - Final\n",
    "DATABASE_URL_FINAL = os.getenv(\"DATABASE_URL_FINAL\") \n",
    "engine = sqlalchemy.create_engine(DATABASE_URL_FINAL,  client_encoding='utf8')\n",
    "connection = engine.connect()"
   ]
  },
  {
   "cell_type": "code",
   "execution_count": 26,
   "id": "db7582a8",
   "metadata": {},
   "outputs": [
    {
     "data": {
      "text/plain": [
       "228"
      ]
     },
     "execution_count": 26,
     "metadata": {},
     "output_type": "execute_result"
    }
   ],
   "source": [
    "# Save DataFrame to Database\n",
    "final_df.to_sql(\"sales_data_duckdb\", con=connection, if_exists=\"replace\", index=False)"
   ]
  },
  {
   "cell_type": "code",
   "execution_count": 27,
   "id": "9d687ea9",
   "metadata": {},
   "outputs": [
    {
     "data": {
      "text/html": [
       "<div>\n",
       "<style scoped>\n",
       "    .dataframe tbody tr th:only-of-type {\n",
       "        vertical-align: middle;\n",
       "    }\n",
       "\n",
       "    .dataframe tbody tr th {\n",
       "        vertical-align: top;\n",
       "    }\n",
       "\n",
       "    .dataframe thead th {\n",
       "        text-align: right;\n",
       "    }\n",
       "</style>\n",
       "<table border=\"1\" class=\"dataframe\">\n",
       "  <thead>\n",
       "    <tr style=\"text-align: right;\">\n",
       "      <th></th>\n",
       "      <th>Order ID</th>\n",
       "      <th>Product</th>\n",
       "      <th>Quantity Ordered</th>\n",
       "      <th>Price Each</th>\n",
       "      <th>Order Date</th>\n",
       "      <th>Purchase Address</th>\n",
       "      <th>Country</th>\n",
       "    </tr>\n",
       "  </thead>\n",
       "  <tbody>\n",
       "    <tr>\n",
       "      <th>0</th>\n",
       "      <td>240221</td>\n",
       "      <td>iPhone</td>\n",
       "      <td>1</td>\n",
       "      <td>700.00</td>\n",
       "      <td>2019-08-09 20:03:00</td>\n",
       "      <td>714 Lake St, Portland, OR 97035</td>\n",
       "      <td>USA</td>\n",
       "    </tr>\n",
       "    <tr>\n",
       "      <th>1</th>\n",
       "      <td>242936</td>\n",
       "      <td>iPhone</td>\n",
       "      <td>1</td>\n",
       "      <td>700.00</td>\n",
       "      <td>2019-08-14 09:27:00</td>\n",
       "      <td>984 14th St, Austin, TX 73301</td>\n",
       "      <td>USA</td>\n",
       "    </tr>\n",
       "    <tr>\n",
       "      <th>2</th>\n",
       "      <td>244595</td>\n",
       "      <td>iPhone</td>\n",
       "      <td>1</td>\n",
       "      <td>700.00</td>\n",
       "      <td>2019-08-03 18:09:00</td>\n",
       "      <td>711 Center St, Seattle, WA 98101</td>\n",
       "      <td>USA</td>\n",
       "    </tr>\n",
       "    <tr>\n",
       "      <th>3</th>\n",
       "      <td>236670</td>\n",
       "      <td>Wired Headphones</td>\n",
       "      <td>2</td>\n",
       "      <td>11.99</td>\n",
       "      <td>2019-08-31 22:21:00</td>\n",
       "      <td>359 Spruce St, Seattle, WA 98101</td>\n",
       "      <td>USA</td>\n",
       "    </tr>\n",
       "    <tr>\n",
       "      <th>4</th>\n",
       "      <td>236671</td>\n",
       "      <td>Bose SoundSport Headphones</td>\n",
       "      <td>1</td>\n",
       "      <td>99.99</td>\n",
       "      <td>2019-08-15 15:11:00</td>\n",
       "      <td>492 Ridge St, Dallas, TX 75001</td>\n",
       "      <td>USA</td>\n",
       "    </tr>\n",
       "  </tbody>\n",
       "</table>\n",
       "</div>"
      ],
      "text/plain": [
       "   Order ID                     Product  Quantity Ordered  Price Each  \\\n",
       "0    240221                      iPhone                 1      700.00   \n",
       "1    242936                      iPhone                 1      700.00   \n",
       "2    244595                      iPhone                 1      700.00   \n",
       "3    236670            Wired Headphones                 2       11.99   \n",
       "4    236671  Bose SoundSport Headphones                 1       99.99   \n",
       "\n",
       "           Order Date                  Purchase Address Country  \n",
       "0 2019-08-09 20:03:00   714 Lake St, Portland, OR 97035     USA  \n",
       "1 2019-08-14 09:27:00     984 14th St, Austin, TX 73301     USA  \n",
       "2 2019-08-03 18:09:00  711 Center St, Seattle, WA 98101     USA  \n",
       "3 2019-08-31 22:21:00  359 Spruce St, Seattle, WA 98101     USA  \n",
       "4 2019-08-15 15:11:00    492 Ridge St, Dallas, TX 75001     USA  "
      ]
     },
     "execution_count": 27,
     "metadata": {},
     "output_type": "execute_result"
    }
   ],
   "source": [
    "# Verify the data was saved correctly\n",
    "query = \"SELECT * FROM sales_data_duckdb LIMIT 5;\"\n",
    "check_df = pd.read_sql(query, con=connection)\n",
    "check_df"
   ]
  },
  {
   "cell_type": "code",
   "execution_count": 8,
   "id": "ecb21212",
   "metadata": {},
   "outputs": [
    {
     "data": {
      "text/html": [
       "<div>\n",
       "<style scoped>\n",
       "    .dataframe tbody tr th:only-of-type {\n",
       "        vertical-align: middle;\n",
       "    }\n",
       "\n",
       "    .dataframe tbody tr th {\n",
       "        vertical-align: top;\n",
       "    }\n",
       "\n",
       "    .dataframe thead th {\n",
       "        text-align: right;\n",
       "    }\n",
       "</style>\n",
       "<table border=\"1\" class=\"dataframe\">\n",
       "  <thead>\n",
       "    <tr style=\"text-align: right;\">\n",
       "      <th></th>\n",
       "      <th>oid</th>\n",
       "      <th>extname</th>\n",
       "      <th>extowner</th>\n",
       "      <th>extnamespace</th>\n",
       "      <th>extrelocatable</th>\n",
       "      <th>extversion</th>\n",
       "      <th>extconfig</th>\n",
       "      <th>extcondition</th>\n",
       "    </tr>\n",
       "  </thead>\n",
       "  <tbody>\n",
       "    <tr>\n",
       "      <th>0</th>\n",
       "      <td>13564</td>\n",
       "      <td>plpgsql</td>\n",
       "      <td>10</td>\n",
       "      <td>11</td>\n",
       "      <td>False</td>\n",
       "      <td>1.0</td>\n",
       "      <td>None</td>\n",
       "      <td>None</td>\n",
       "    </tr>\n",
       "    <tr>\n",
       "      <th>1</th>\n",
       "      <td>16398</td>\n",
       "      <td>pg_duckdb</td>\n",
       "      <td>16385</td>\n",
       "      <td>2200</td>\n",
       "      <td>False</td>\n",
       "      <td>0.2.0</td>\n",
       "      <td>None</td>\n",
       "      <td>None</td>\n",
       "    </tr>\n",
       "  </tbody>\n",
       "</table>\n",
       "</div>"
      ],
      "text/plain": [
       "     oid    extname  extowner  extnamespace  extrelocatable extversion  \\\n",
       "0  13564    plpgsql        10            11           False        1.0   \n",
       "1  16398  pg_duckdb     16385          2200           False      0.2.0   \n",
       "\n",
       "  extconfig extcondition  \n",
       "0      None         None  \n",
       "1      None         None  "
      ]
     },
     "execution_count": 8,
     "metadata": {},
     "output_type": "execute_result"
    }
   ],
   "source": [
    "# Verify the data was saved correctly\n",
    "query_ext = \"SELECT * FROM pg_extension;\"\n",
    "pd.read_sql(query_ext, con=connection)"
   ]
  },
  {
   "cell_type": "code",
   "execution_count": 28,
   "id": "abc90c8d",
   "metadata": {},
   "outputs": [],
   "source": [
    "connection.close()"
   ]
  }
 ],
 "metadata": {
  "kernelspec": {
   "display_name": "Python 3",
   "language": "python",
   "name": "python3"
  },
  "language_info": {
   "codemirror_mode": {
    "name": "ipython",
    "version": 3
   },
   "file_extension": ".py",
   "mimetype": "text/x-python",
   "name": "python",
   "nbconvert_exporter": "python",
   "pygments_lexer": "ipython3",
   "version": "3.10.0"
  }
 },
 "nbformat": 4,
 "nbformat_minor": 5
}
